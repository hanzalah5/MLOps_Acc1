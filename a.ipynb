{
 "cells": [
  {
   "cell_type": "code",
   "execution_count": 1,
   "metadata": {},
   "outputs": [
    {
     "name": "stdout",
     "output_type": "stream",
     "text": [
      "Hello\n",
      "World\n"
     ]
    }
   ],
   "source": [
    "print(\"Hello\")\n",
    "print(\"World\")"
   ]
  },
  {
   "cell_type": "code",
   "execution_count": 5,
   "metadata": {},
   "outputs": [],
   "source": [
    "my_list = [1, 2, 'apple', 'banana', True]\n",
    "my_tuple = (1, 2, 'apple', 'banana', True)\n",
    "my_dict = {'name': 'John', 2: 30, 'city': 'New York'}"
   ]
  },
  {
   "cell_type": "code",
   "execution_count": 8,
   "metadata": {},
   "outputs": [
    {
     "name": "stdout",
     "output_type": "stream",
     "text": [
      "Bubble Sort: [11, 12, 22, 25, 34, 64, 90]\n",
      "Merge Sort: [11, 12, 22, 25, 34, 64, 90]\n"
     ]
    }
   ],
   "source": [
    "from sorting import bubble,merge\n",
    "\n",
    "\n",
    "# Define a list to be sorted\n",
    "my_list = [64, 34, 25, 12, 22, 11, 90]\n",
    "\n",
    "# Bubble Sort\n",
    "sorted_list_bubble = bubble(my_list)\n",
    "print(\"Bubble Sort:\", sorted_list_bubble)\n",
    "\n",
    "# Merge Sort\n",
    "sorted_list_merge = merge(my_list)\n",
    "print(\"Merge Sort:\", sorted_list_merge)\n"
   ]
  },
  {
   "cell_type": "code",
   "execution_count": 11,
   "metadata": {},
   "outputs": [
    {
     "name": "stdout",
     "output_type": "stream",
     "text": [
      "Value of parameter1: value1\n",
      "Value of parameter2: value2\n",
      "Class variable value: some_value\n",
      "This is a static method\n"
     ]
    }
   ],
   "source": [
    "#Class Structure\n",
    "\n",
    "class ClassName:\n",
    "    # Class variable\n",
    "    class_variable = 'some_value'\n",
    "\n",
    "    # Constructor (initializer method)\n",
    "    def __init__(self, parameter1, parameter2):\n",
    "        # Instance variables\n",
    "        self.parameter1 = parameter1\n",
    "        self.parameter2 = parameter2\n",
    "\n",
    "    # Instance method\n",
    "    def instance_method(self):\n",
    "        # Access instance variables and perform operations\n",
    "        print(f\"Value of parameter1: {self.parameter1}\")\n",
    "        print(f\"Value of parameter2: {self.parameter2}\")\n",
    "\n",
    "    # Class method\n",
    "    @classmethod\n",
    "    def class_method(cls):\n",
    "        # Access class variables and perform operations\n",
    "        print(f\"Class variable value: {cls.class_variable}\")\n",
    "\n",
    "    # Static method\n",
    "    @staticmethod\n",
    "    def static_method():\n",
    "        # Perform operations that don't depend on instance or class variables\n",
    "        print(\"This is a static method\")\n",
    "\n",
    "# Creating objects (instances) of the class\n",
    "obj1 = ClassName('value1', 'value2')\n",
    "\n",
    "# Calling instance methods\n",
    "obj1.instance_method()\n",
    "\n",
    "# Calling class methods\n",
    "ClassName.class_method()\n",
    "\n",
    "# Calling static methods\n",
    "ClassName.static_method()\n"
   ]
  },
  {
   "cell_type": "code",
   "execution_count": null,
   "metadata": {},
   "outputs": [],
   "source": []
  },
  {
   "cell_type": "code",
   "execution_count": null,
   "metadata": {},
   "outputs": [],
   "source": []
  }
 ],
 "metadata": {
  "kernelspec": {
   "display_name": "Python 3",
   "language": "python",
   "name": "python3"
  },
  "language_info": {
   "codemirror_mode": {
    "name": "ipython",
    "version": 3
   },
   "file_extension": ".py",
   "mimetype": "text/x-python",
   "name": "python",
   "nbconvert_exporter": "python",
   "pygments_lexer": "ipython3",
   "version": "3.12.1"
  }
 },
 "nbformat": 4,
 "nbformat_minor": 2
}
